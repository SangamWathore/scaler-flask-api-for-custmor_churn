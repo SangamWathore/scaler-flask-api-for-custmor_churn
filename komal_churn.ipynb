{
 "cells": [
  {
   "cell_type": "code",
   "execution_count": 63,
   "metadata": {},
   "outputs": [
    {
     "name": "stdout",
     "output_type": "stream",
     "text": [
      "CSV file 'customer_churn.csv' has been created successfully.\n"
     ]
    }
   ],
   "source": [
    "import pandas as pd\n",
    "import random\n",
    "import faker\n",
    "import seaborn as sns\n",
    "import matplotlib.pyplot as  plt\n",
    "\n",
    "# Initialize Faker to generate random names\n",
    "fake = faker.Faker()\n",
    "\n",
    "# Define number of records\n",
    "num_records = 1000\n",
    "\n",
    "# Generate data\n",
    "customer_data = {\n",
    "    \"CustomerID\": [f\"CUST{str(i).zfill(4)}\" if random.random() > 0.05 else None for i in range(1, num_records + 1)],\n",
    "    \"Name\": [fake.name() if random.random() > 0.05 else None for _ in range(num_records)],\n",
    "    \"Age\": [random.randint(18, 80) if random.random() > 0.05 else None for _ in range(num_records)],\n",
    "    \"Gmail\": [fake.email() for _ in range(num_records)],\n",
    "    \"Subscription\": [random.choice([\"Basic\", \"Standard\", \"Premium\"]) if random.random() > 0.05 else None for _ in range(num_records)],\n",
    "    \"Churn\": [random.choice([\"Yes\", \"No\"]) for _ in range(num_records)]\n",
    "}\n",
    "\n",
    "# Create DataFrame\n",
    "df = pd.DataFrame(customer_data)\n",
    "\n",
    "# Save to CSV\n",
    "df.to_csv(\"customer_churn.csv\", index=False)\n",
    "\n",
    "print(\"CSV file 'customer_churn.csv' has been created successfully.\")\n"
   ]
  },
  {
   "cell_type": "code",
   "execution_count": 64,
   "metadata": {},
   "outputs": [
    {
     "data": {
      "text/html": [
       "<div>\n",
       "<style scoped>\n",
       "    .dataframe tbody tr th:only-of-type {\n",
       "        vertical-align: middle;\n",
       "    }\n",
       "\n",
       "    .dataframe tbody tr th {\n",
       "        vertical-align: top;\n",
       "    }\n",
       "\n",
       "    .dataframe thead th {\n",
       "        text-align: right;\n",
       "    }\n",
       "</style>\n",
       "<table border=\"1\" class=\"dataframe\">\n",
       "  <thead>\n",
       "    <tr style=\"text-align: right;\">\n",
       "      <th></th>\n",
       "      <th>CustomerID</th>\n",
       "      <th>Name</th>\n",
       "      <th>Age</th>\n",
       "      <th>Gmail</th>\n",
       "      <th>Subscription</th>\n",
       "      <th>Churn</th>\n",
       "    </tr>\n",
       "  </thead>\n",
       "  <tbody>\n",
       "    <tr>\n",
       "      <th>0</th>\n",
       "      <td>NaN</td>\n",
       "      <td>Anthony Ibarra</td>\n",
       "      <td>34.0</td>\n",
       "      <td>hramirez@example.net</td>\n",
       "      <td>Standard</td>\n",
       "      <td>Yes</td>\n",
       "    </tr>\n",
       "    <tr>\n",
       "      <th>1</th>\n",
       "      <td>CUST0002</td>\n",
       "      <td>Monica Mora</td>\n",
       "      <td>46.0</td>\n",
       "      <td>lknight@example.com</td>\n",
       "      <td>Basic</td>\n",
       "      <td>No</td>\n",
       "    </tr>\n",
       "    <tr>\n",
       "      <th>2</th>\n",
       "      <td>CUST0003</td>\n",
       "      <td>Rachel Ellis</td>\n",
       "      <td>47.0</td>\n",
       "      <td>watkinstiffany@example.com</td>\n",
       "      <td>Basic</td>\n",
       "      <td>Yes</td>\n",
       "    </tr>\n",
       "    <tr>\n",
       "      <th>3</th>\n",
       "      <td>CUST0004</td>\n",
       "      <td>Edward Jefferson</td>\n",
       "      <td>65.0</td>\n",
       "      <td>crystal95@example.org</td>\n",
       "      <td>Basic</td>\n",
       "      <td>No</td>\n",
       "    </tr>\n",
       "    <tr>\n",
       "      <th>4</th>\n",
       "      <td>CUST0005</td>\n",
       "      <td>Robert Brewer</td>\n",
       "      <td>50.0</td>\n",
       "      <td>williamsonanthony@example.net</td>\n",
       "      <td>Standard</td>\n",
       "      <td>Yes</td>\n",
       "    </tr>\n",
       "  </tbody>\n",
       "</table>\n",
       "</div>"
      ],
      "text/plain": [
       "  CustomerID              Name   Age                          Gmail  \\\n",
       "0        NaN    Anthony Ibarra  34.0           hramirez@example.net   \n",
       "1   CUST0002       Monica Mora  46.0            lknight@example.com   \n",
       "2   CUST0003      Rachel Ellis  47.0     watkinstiffany@example.com   \n",
       "3   CUST0004  Edward Jefferson  65.0          crystal95@example.org   \n",
       "4   CUST0005     Robert Brewer  50.0  williamsonanthony@example.net   \n",
       "\n",
       "  Subscription Churn  \n",
       "0     Standard   Yes  \n",
       "1        Basic    No  \n",
       "2        Basic   Yes  \n",
       "3        Basic    No  \n",
       "4     Standard   Yes  "
      ]
     },
     "execution_count": 64,
     "metadata": {},
     "output_type": "execute_result"
    }
   ],
   "source": [
    "df = pd.read_csv('customer_churn.csv')\n",
    "df.head()"
   ]
  },
  {
   "cell_type": "code",
   "execution_count": 65,
   "metadata": {},
   "outputs": [
    {
     "data": {
      "text/plain": [
       "(1000, 6)"
      ]
     },
     "execution_count": 65,
     "metadata": {},
     "output_type": "execute_result"
    }
   ],
   "source": [
    "df.shape"
   ]
  },
  {
   "cell_type": "code",
   "execution_count": 66,
   "metadata": {},
   "outputs": [
    {
     "data": {
      "text/plain": [
       "6000"
      ]
     },
     "execution_count": 66,
     "metadata": {},
     "output_type": "execute_result"
    }
   ],
   "source": [
    "df.size"
   ]
  },
  {
   "cell_type": "code",
   "execution_count": 67,
   "metadata": {},
   "outputs": [
    {
     "data": {
      "text/plain": [
       "CustomerID      57\n",
       "Name            41\n",
       "Age             57\n",
       "Gmail            0\n",
       "Subscription    60\n",
       "Churn            0\n",
       "dtype: int64"
      ]
     },
     "execution_count": 67,
     "metadata": {},
     "output_type": "execute_result"
    }
   ],
   "source": [
    "df.isna().sum()"
   ]
  },
  {
   "cell_type": "code",
   "execution_count": 68,
   "metadata": {},
   "outputs": [
    {
     "data": {
      "text/plain": [
       "0"
      ]
     },
     "execution_count": 68,
     "metadata": {},
     "output_type": "execute_result"
    }
   ],
   "source": [
    "df.duplicated().sum()"
   ]
  },
  {
   "cell_type": "code",
   "execution_count": 69,
   "metadata": {},
   "outputs": [
    {
     "name": "stdout",
     "output_type": "stream",
     "text": [
      "<class 'pandas.core.frame.DataFrame'>\n",
      "RangeIndex: 1000 entries, 0 to 999\n",
      "Data columns (total 6 columns):\n",
      " #   Column        Non-Null Count  Dtype  \n",
      "---  ------        --------------  -----  \n",
      " 0   CustomerID    943 non-null    object \n",
      " 1   Name          959 non-null    object \n",
      " 2   Age           943 non-null    float64\n",
      " 3   Gmail         1000 non-null   object \n",
      " 4   Subscription  940 non-null    object \n",
      " 5   Churn         1000 non-null   object \n",
      "dtypes: float64(1), object(5)\n",
      "memory usage: 47.0+ KB\n"
     ]
    }
   ],
   "source": [
    "df.info()"
   ]
  },
  {
   "cell_type": "markdown",
   "metadata": {},
   "source": [
    "EDA"
   ]
  },
  {
   "cell_type": "markdown",
   "metadata": {},
   "source": [
    "univariate analysis"
   ]
  },
  {
   "cell_type": "code",
   "execution_count": 70,
   "metadata": {},
   "outputs": [
    {
     "name": "stderr",
     "output_type": "stream",
     "text": [
      "C:\\Users\\sangam007\\AppData\\Local\\Temp\\ipykernel_16484\\541386481.py:6: FutureWarning: \n",
      "\n",
      "Passing `palette` without assigning `hue` is deprecated and will be removed in v0.14.0. Assign the `x` variable to `hue` and set `legend=False` for the same effect.\n",
      "\n",
      "  sns.countplot(x=df['Churn'], palette='coolwarm')\n"
     ]
    },
    {
     "data": {
      "image/png": "[encoded data removed]",
      "text/plain": [
       "<Figure size 600x400 with 1 Axes>"
      ]
     },
     "metadata": {},
     "output_type": "display_data"
    },
    {
     "data": {
      "image/png": "[encoded data removed]",
      "text/plain": [
       "<Figure size 600x600 with 1 Axes>"
      ]
     },
     "metadata": {},
     "output_type": "display_data"
    }
   ],
   "source": [
    "import matplotlib.pyplot as plt\n",
    "import seaborn as sns\n",
    "\n",
    "# Bar Plot for Churn\n",
    "plt.figure(figsize=(6, 4))\n",
    "sns.countplot(x=df['Churn'], palette='coolwarm')\n",
    "plt.title('Churn Count Distribution')\n",
    "plt.show()\n",
    "\n",
    "# Pie Chart for Subscription Types\n",
    "plt.figure(figsize=(6, 6))\n",
    "df['Subscription'].value_counts().plot.pie(autopct='%1.1f%%', startangle=90, colors=['lightblue', 'lightgreen', 'salmon'])\n",
    "plt.title('Subscription Type Distribution')\n",
    "plt.show()\n"
   ]
  },
  {
   "cell_type": "code",
   "execution_count": 71,
   "metadata": {},
   "outputs": [
    {
     "data": {
      "image/png": "[encoded data removed]",
      "text/plain": [
       "<Figure size 600x400 with 1 Axes>"
      ]
     },
     "metadata": {},
     "output_type": "display_data"
    },
    {
     "data": {
      "image/png": "[encoded data removed]",
      "text/plain": [
       "<Figure size 600x400 with 1 Axes>"
      ]
     },
     "metadata": {},
     "output_type": "display_data"
    }
   ],
   "source": [
    "# Histogram for Age Distribution\n",
    "plt.figure(figsize=(6, 4))\n",
    "sns.histplot(df['Age'].dropna(), bins=20, kde=True, color='blue')\n",
    "plt.title('Age Distribution')\n",
    "plt.show()\n",
    "\n",
    "# Box Plot for Age (to check outliers)\n",
    "plt.figure(figsize=(6, 4))\n",
    "sns.boxplot(x=df['Age'], color='blue')\n",
    "plt.title('Age Boxplot')\n",
    "plt.show()\n"
   ]
  },
  {
   "cell_type": "markdown",
   "metadata": {},
   "source": [
    "Bivariate Analysis"
   ]
  },
  {
   "cell_type": "markdown",
   "metadata": {},
   "source": [
    "Age vs Churn"
   ]
  },
  {
   "cell_type": "code",
   "execution_count": 72,
   "metadata": {},
   "outputs": [
    {
     "name": "stderr",
     "output_type": "stream",
     "text": [
      "C:\\Users\\sangam007\\AppData\\Local\\Temp\\ipykernel_16484\\4242576441.py:2: FutureWarning: \n",
      "\n",
      "Passing `palette` without assigning `hue` is deprecated and will be removed in v0.14.0. Assign the `x` variable to `hue` and set `legend=False` for the same effect.\n",
      "\n",
      "  sns.boxplot(x=df['Churn'], y=df['Age'], palette='coolwarm')\n"
     ]
    },
    {
     "data": {
      "image/png": "[encoded data removed]",
      "text/plain": [
       "<Figure size 600x400 with 1 Axes>"
      ]
     },
     "metadata": {},
     "output_type": "display_data"
    }
   ],
   "source": [
    "plt.figure(figsize=(6, 4))\n",
    "sns.boxplot(x=df['Churn'], y=df['Age'], palette='coolwarm')\n",
    "plt.title('Age Distribution by Churn')\n",
    "plt.show()\n"
   ]
  },
  {
   "cell_type": "markdown",
   "metadata": {},
   "source": [
    "Subscription vs Churn"
   ]
  },
  {
   "cell_type": "code",
   "execution_count": 73,
   "metadata": {},
   "outputs": [
    {
     "data": {
      "image/png": "[encoded data removed]",
      "text/plain": [
       "<Figure size 600x400 with 1 Axes>"
      ]
     },
     "metadata": {},
     "output_type": "display_data"
    }
   ],
   "source": [
    "plt.figure(figsize=(6, 4))\n",
    "sns.countplot(x=df['Subscription'], hue=df['Churn'], palette='coolwarm')\n",
    "plt.title('Churn Count by Subscription Type')\n",
    "plt.show()\n"
   ]
  },
  {
   "cell_type": "markdown",
   "metadata": {},
   "source": [
    "preprocessing"
   ]
  },
  {
   "cell_type": "code",
   "execution_count": 74,
   "metadata": {},
   "outputs": [
    {
     "name": "stdout",
     "output_type": "stream",
     "text": [
      "Missing values filled successfully!\n"
     ]
    },
    {
     "name": "stderr",
     "output_type": "stream",
     "text": [
      "C:\\Users\\sangam007\\AppData\\Local\\Temp\\ipykernel_16484\\578952439.py:4: FutureWarning: Series.fillna with 'method' is deprecated and will raise in a future version. Use obj.ffill() or obj.bfill() instead.\n",
      "  df['CustomerID'] = df['CustomerID'].fillna(method='ffill')\n"
     ]
    }
   ],
   "source": [
    "#filling the missing values\n",
    "\n",
    "# Fill missing CustomerID with a unique identifier\n",
    "df['CustomerID'] = df['CustomerID'].fillna(method='ffill')\n",
    "\n",
    "# Fill missing Name with \"Unknown\"\n",
    "df['Name'] = df['Name'].fillna(\"Unknown\")\n",
    "\n",
    "# Fill missing Age with the median value\n",
    "df['Age'] = df['Age'].fillna(df['Age'].median())\n",
    "\n",
    "# Fill missing Subscription with the most frequent value (mode)\n",
    "df['Subscription'] = df['Subscription'].fillna(df['Subscription'].mode()[0])\n",
    "\n",
    "# Fill missing Gmail with a placeholder email\n",
    "df['Gmail'] = df['Gmail'].fillna(\"noemail@example.com\")\n",
    "\n",
    "print(\"Missing values filled successfully!\")\n"
   ]
  },
  {
   "cell_type": "code",
   "execution_count": 75,
   "metadata": {},
   "outputs": [
    {
     "data": {
      "text/plain": [
       "CustomerID      1\n",
       "Name            0\n",
       "Age             0\n",
       "Gmail           0\n",
       "Subscription    0\n",
       "Churn           0\n",
       "dtype: int64"
      ]
     },
     "execution_count": 75,
     "metadata": {},
     "output_type": "execute_result"
    }
   ],
   "source": [
    "df.isna().sum()"
   ]
  },
  {
   "cell_type": "code",
   "execution_count": 76,
   "metadata": {},
   "outputs": [
    {
     "data": {
      "text/html": [
       "<div>\n",
       "<style scoped>\n",
       "    .dataframe tbody tr th:only-of-type {\n",
       "        vertical-align: middle;\n",
       "    }\n",
       "\n",
       "    .dataframe tbody tr th {\n",
       "        vertical-align: top;\n",
       "    }\n",
       "\n",
       "    .dataframe thead th {\n",
       "        text-align: right;\n",
       "    }\n",
       "</style>\n",
       "<table border=\"1\" class=\"dataframe\">\n",
       "  <thead>\n",
       "    <tr style=\"text-align: right;\">\n",
       "      <th></th>\n",
       "      <th>CustomerID</th>\n",
       "      <th>Name</th>\n",
       "      <th>Age</th>\n",
       "      <th>Gmail</th>\n",
       "      <th>Subscription</th>\n",
       "      <th>Churn</th>\n",
       "    </tr>\n",
       "  </thead>\n",
       "  <tbody>\n",
       "    <tr>\n",
       "      <th>0</th>\n",
       "      <td>NaN</td>\n",
       "      <td>Anthony Ibarra</td>\n",
       "      <td>34.0</td>\n",
       "      <td>hramirez@example.net</td>\n",
       "      <td>Standard</td>\n",
       "      <td>Yes</td>\n",
       "    </tr>\n",
       "    <tr>\n",
       "      <th>1</th>\n",
       "      <td>CUST0002</td>\n",
       "      <td>Monica Mora</td>\n",
       "      <td>46.0</td>\n",
       "      <td>lknight@example.com</td>\n",
       "      <td>Basic</td>\n",
       "      <td>No</td>\n",
       "    </tr>\n",
       "    <tr>\n",
       "      <th>2</th>\n",
       "      <td>CUST0003</td>\n",
       "      <td>Rachel Ellis</td>\n",
       "      <td>47.0</td>\n",
       "      <td>watkinstiffany@example.com</td>\n",
       "      <td>Basic</td>\n",
       "      <td>Yes</td>\n",
       "    </tr>\n",
       "    <tr>\n",
       "      <th>3</th>\n",
       "      <td>CUST0004</td>\n",
       "      <td>Edward Jefferson</td>\n",
       "      <td>65.0</td>\n",
       "      <td>crystal95@example.org</td>\n",
       "      <td>Basic</td>\n",
       "      <td>No</td>\n",
       "    </tr>\n",
       "    <tr>\n",
       "      <th>4</th>\n",
       "      <td>CUST0005</td>\n",
       "      <td>Robert Brewer</td>\n",
       "      <td>50.0</td>\n",
       "      <td>williamsonanthony@example.net</td>\n",
       "      <td>Standard</td>\n",
       "      <td>Yes</td>\n",
       "    </tr>\n",
       "  </tbody>\n",
       "</table>\n",
       "</div>"
      ],
      "text/plain": [
       "  CustomerID              Name   Age                          Gmail  \\\n",
       "0        NaN    Anthony Ibarra  34.0           hramirez@example.net   \n",
       "1   CUST0002       Monica Mora  46.0            lknight@example.com   \n",
       "2   CUST0003      Rachel Ellis  47.0     watkinstiffany@example.com   \n",
       "3   CUST0004  Edward Jefferson  65.0          crystal95@example.org   \n",
       "4   CUST0005     Robert Brewer  50.0  williamsonanthony@example.net   \n",
       "\n",
       "  Subscription Churn  \n",
       "0     Standard   Yes  \n",
       "1        Basic    No  \n",
       "2        Basic   Yes  \n",
       "3        Basic    No  \n",
       "4     Standard   Yes  "
      ]
     },
     "execution_count": 76,
     "metadata": {},
     "output_type": "execute_result"
    }
   ],
   "source": [
    "df.head()"
   ]
  },
  {
   "cell_type": "markdown",
   "metadata": {},
   "source": [
    "encoding"
   ]
  },
  {
   "cell_type": "code",
   "execution_count": 77,
   "metadata": {},
   "outputs": [
    {
     "name": "stdout",
     "output_type": "stream",
     "text": [
      "Subscription column converted using Label Encoding.\n",
      "Categorical columns converted into numerical format successfully!\n"
     ]
    }
   ],
   "source": [
    "import pandas as pd\n",
    "from sklearn.preprocessing import LabelEncoder\n",
    "\n",
    "# Convert 'Churn' (Binary Categorical) to 0 and 1\n",
    "df['Churn'] = df['Churn'].map({'No': 0, 'Yes': 1})\n",
    "\n",
    "# Convert 'Subscription' (Multiclass Categorical) using One-Hot Encoding\n",
    "# df = pd.get_dummies(df, columns=['Subscription'], drop_first=True)  # Avoids multicollinearity\n",
    "\n",
    "le = LabelEncoder()\n",
    "df['Subscription'] = le.fit_transform(df['Subscription'])\n",
    "print(\"Subscription column converted using Label Encoding.\")\n",
    "\n",
    "print(\"Categorical columns converted into numerical format successfully!\")\n"
   ]
  },
  {
   "cell_type": "code",
   "execution_count": 78,
   "metadata": {},
   "outputs": [
    {
     "data": {
      "text/html": [
       "<div>\n",
       "<style scoped>\n",
       "    .dataframe tbody tr th:only-of-type {\n",
       "        vertical-align: middle;\n",
       "    }\n",
       "\n",
       "    .dataframe tbody tr th {\n",
       "        vertical-align: top;\n",
       "    }\n",
       "\n",
       "    .dataframe thead th {\n",
       "        text-align: right;\n",
       "    }\n",
       "</style>\n",
       "<table border=\"1\" class=\"dataframe\">\n",
       "  <thead>\n",
       "    <tr style=\"text-align: right;\">\n",
       "      <th></th>\n",
       "      <th>CustomerID</th>\n",
       "      <th>Name</th>\n",
       "      <th>Age</th>\n",
       "      <th>Gmail</th>\n",
       "      <th>Subscription</th>\n",
       "      <th>Churn</th>\n",
       "    </tr>\n",
       "  </thead>\n",
       "  <tbody>\n",
       "    <tr>\n",
       "      <th>0</th>\n",
       "      <td>NaN</td>\n",
       "      <td>Anthony Ibarra</td>\n",
       "      <td>34.0</td>\n",
       "      <td>hramirez@example.net</td>\n",
       "      <td>2</td>\n",
       "      <td>1</td>\n",
       "    </tr>\n",
       "    <tr>\n",
       "      <th>1</th>\n",
       "      <td>CUST0002</td>\n",
       "      <td>Monica Mora</td>\n",
       "      <td>46.0</td>\n",
       "      <td>lknight@example.com</td>\n",
       "      <td>0</td>\n",
       "      <td>0</td>\n",
       "    </tr>\n",
       "    <tr>\n",
       "      <th>2</th>\n",
       "      <td>CUST0003</td>\n",
       "      <td>Rachel Ellis</td>\n",
       "      <td>47.0</td>\n",
       "      <td>watkinstiffany@example.com</td>\n",
       "      <td>0</td>\n",
       "      <td>1</td>\n",
       "    </tr>\n",
       "    <tr>\n",
       "      <th>3</th>\n",
       "      <td>CUST0004</td>\n",
       "      <td>Edward Jefferson</td>\n",
       "      <td>65.0</td>\n",
       "      <td>crystal95@example.org</td>\n",
       "      <td>0</td>\n",
       "      <td>0</td>\n",
       "    </tr>\n",
       "    <tr>\n",
       "      <th>4</th>\n",
       "      <td>CUST0005</td>\n",
       "      <td>Robert Brewer</td>\n",
       "      <td>50.0</td>\n",
       "      <td>williamsonanthony@example.net</td>\n",
       "      <td>2</td>\n",
       "      <td>1</td>\n",
       "    </tr>\n",
       "  </tbody>\n",
       "</table>\n",
       "</div>"
      ],
      "text/plain": [
       "  CustomerID              Name   Age                          Gmail  \\\n",
       "0        NaN    Anthony Ibarra  34.0           hramirez@example.net   \n",
       "1   CUST0002       Monica Mora  46.0            lknight@example.com   \n",
       "2   CUST0003      Rachel Ellis  47.0     watkinstiffany@example.com   \n",
       "3   CUST0004  Edward Jefferson  65.0          crystal95@example.org   \n",
       "4   CUST0005     Robert Brewer  50.0  williamsonanthony@example.net   \n",
       "\n",
       "   Subscription  Churn  \n",
       "0             2      1  \n",
       "1             0      0  \n",
       "2             0      1  \n",
       "3             0      0  \n",
       "4             2      1  "
      ]
     },
     "execution_count": 78,
     "metadata": {},
     "output_type": "execute_result"
    }
   ],
   "source": [
    "df.head()"
   ]
  },
  {
   "cell_type": "code",
   "execution_count": 79,
   "metadata": {},
   "outputs": [
    {
     "name": "stdout",
     "output_type": "stream",
     "text": [
      "Average age of churned customers: 49.44\n"
     ]
    }
   ],
   "source": [
    "average_age_churned = df[df['Churn'] == 1]['Age'].mean()\n",
    "print(f\"Average age of churned customers: {average_age_churned:.2f}\")\n"
   ]
  },
  {
   "cell_type": "markdown",
   "metadata": {},
   "source": [
    "Extract email addresses from a given text file using regex."
   ]
  },
  {
   "cell_type": "code",
   "execution_count": 80,
   "metadata": {},
   "outputs": [
    {
     "name": "stdout",
     "output_type": "stream",
     "text": [
      "                           Gmail                Extracted_Email\n",
      "0           hramirez@example.net           hramirez@example.net\n",
      "1            lknight@example.com            lknight@example.com\n",
      "2     watkinstiffany@example.com     watkinstiffany@example.com\n",
      "3          crystal95@example.org          crystal95@example.org\n",
      "4  williamsonanthony@example.net  williamsonanthony@example.net\n"
     ]
    }
   ],
   "source": [
    "import re\n",
    "\n",
    "# Extract email addresses using regex\n",
    "df['Extracted_Email'] = df['Gmail'].str.extract(r'([a-zA-Z0-9._%+-]+@[a-zA-Z0-9.-]+\\.[a-zA-Z]{2,})')\n",
    "\n",
    "print(df[['Gmail', 'Extracted_Email']].head())  # Display original and extracted emails\n"
   ]
  },
  {
   "cell_type": "markdown",
   "metadata": {},
   "source": [
    "#### Model Training & Evaluation:"
   ]
  },
  {
   "cell_type": "code",
   "execution_count": 81,
   "metadata": {},
   "outputs": [],
   "source": [
    "df1 = df.copy()"
   ]
  },
  {
   "cell_type": "code",
   "execution_count": 82,
   "metadata": {},
   "outputs": [],
   "source": [
    "df1 = df1.drop(columns=['CustomerID','Name','Gmail','Extracted_Email'])"
   ]
  },
  {
   "cell_type": "code",
   "execution_count": 83,
   "metadata": {},
   "outputs": [
    {
     "data": {
      "text/html": [
       "<div>\n",
       "<style scoped>\n",
       "    .dataframe tbody tr th:only-of-type {\n",
       "        vertical-align: middle;\n",
       "    }\n",
       "\n",
       "    .dataframe tbody tr th {\n",
       "        vertical-align: top;\n",
       "    }\n",
       "\n",
       "    .dataframe thead th {\n",
       "        text-align: right;\n",
       "    }\n",
       "</style>\n",
       "<table border=\"1\" class=\"dataframe\">\n",
       "  <thead>\n",
       "    <tr style=\"text-align: right;\">\n",
       "      <th></th>\n",
       "      <th>Age</th>\n",
       "      <th>Subscription</th>\n",
       "      <th>Churn</th>\n",
       "    </tr>\n",
       "  </thead>\n",
       "  <tbody>\n",
       "    <tr>\n",
       "      <th>0</th>\n",
       "      <td>34.0</td>\n",
       "      <td>2</td>\n",
       "      <td>1</td>\n",
       "    </tr>\n",
       "    <tr>\n",
       "      <th>1</th>\n",
       "      <td>46.0</td>\n",
       "      <td>0</td>\n",
       "      <td>0</td>\n",
       "    </tr>\n",
       "    <tr>\n",
       "      <th>2</th>\n",
       "      <td>47.0</td>\n",
       "      <td>0</td>\n",
       "      <td>1</td>\n",
       "    </tr>\n",
       "    <tr>\n",
       "      <th>3</th>\n",
       "      <td>65.0</td>\n",
       "      <td>0</td>\n",
       "      <td>0</td>\n",
       "    </tr>\n",
       "    <tr>\n",
       "      <th>4</th>\n",
       "      <td>50.0</td>\n",
       "      <td>2</td>\n",
       "      <td>1</td>\n",
       "    </tr>\n",
       "  </tbody>\n",
       "</table>\n",
       "</div>"
      ],
      "text/plain": [
       "    Age  Subscription  Churn\n",
       "0  34.0             2      1\n",
       "1  46.0             0      0\n",
       "2  47.0             0      1\n",
       "3  65.0             0      0\n",
       "4  50.0             2      1"
      ]
     },
     "execution_count": 83,
     "metadata": {},
     "output_type": "execute_result"
    }
   ],
   "source": [
    "df1.head()"
   ]
  },
  {
   "cell_type": "markdown",
   "metadata": {},
   "source": [
    "spliting the dataset"
   ]
  },
  {
   "cell_type": "code",
   "execution_count": null,
   "metadata": {},
   "outputs": [
    {
     "name": "stdout",
     "output_type": "stream",
     "text": [
      "Scaler saved successfully as scaler.pkl\n",
      "Training data size: (800, 3), Testing data size: (200, 3)\n"
     ]
    }
   ],
   "source": [
    "from sklearn.model_selection import train_test_split\n",
    "import pandas as pd\n",
    "\n",
    "# Define features (X) and target (y)\n",
    "X = df1[['Age', 'Subscription']]  # Features\n",
    "y = df1['Churn']  # Target column\n",
    "\n",
    "# Convert 'Subscription' to numerical using One-Hot Encoding\n",
    "X = pd.get_dummies(X, columns=['Subscription'], drop_first=True)\n",
    "\n",
    "# Split the dataset into training (80%) and testing (20%)\n",
    "X_train, X_test, y_train, y_test = train_test_split(X, y, test_size=0.2, random_state=42, stratify=y)\n",
    "\n",
    "print(f\"Training data size: {X_train.shape}, Testing data size: {X_test.shape}\")\n"
   ]
  },
  {
   "cell_type": "code",
   "execution_count": 94,
   "metadata": {},
   "outputs": [
    {
     "name": "stdout",
     "output_type": "stream",
     "text": [
      "Scaler saved successfully!\n"
     ]
    }
   ],
   "source": [
    "from sklearn.preprocessing import StandardScaler\n",
    "import pickle\n",
    "\n",
    "scaler = StandardScaler()\n",
    "scaler.fit(X_train)  # Fit on training data features only\n",
    "\n",
    "with open(\"scaler.pkl\", \"wb\") as f:\n",
    "    pickle.dump(scaler, f)\n",
    "print(\"Scaler saved successfully!\")\n"
   ]
  },
  {
   "cell_type": "code",
   "execution_count": 85,
   "metadata": {},
   "outputs": [
    {
     "data": {
      "text/plain": [
       "Index(['Age', 'Subscription_1', 'Subscription_2'], dtype='object')"
      ]
     },
     "execution_count": 85,
     "metadata": {},
     "output_type": "execute_result"
    }
   ],
   "source": [
    "X.columns"
   ]
  },
  {
   "cell_type": "code",
   "execution_count": 86,
   "metadata": {},
   "outputs": [
    {
     "name": "stdout",
     "output_type": "stream",
     "text": [
      "Model Accuracy: 0.54\n",
      "Classification Report:\n",
      "               precision    recall  f1-score   support\n",
      "\n",
      "           0       0.54      0.79      0.64       103\n",
      "           1       0.55      0.28      0.37        97\n",
      "\n",
      "    accuracy                           0.54       200\n",
      "   macro avg       0.54      0.53      0.50       200\n",
      "weighted avg       0.54      0.54      0.51       200\n",
      "\n"
     ]
    }
   ],
   "source": [
    "from sklearn.model_selection import train_test_split\n",
    "from sklearn.linear_model import LogisticRegression\n",
    "from sklearn.metrics import accuracy_score, classification_report\n",
    "\n",
    "\n",
    "model = LogisticRegression()\n",
    "model.fit(X_train, y_train)\n",
    "\n",
    "#Make Predictions\n",
    "y_pred = model.predict(X_test)\n",
    "\n",
    "# Evaluate Model Performance\n",
    "accuracy = accuracy_score(y_test, y_pred)\n",
    "report = classification_report(y_test, y_pred)\n",
    "\n",
    "print(f\"Model Accuracy: {accuracy:.2f}\")\n",
    "print(\"Classification Report:\\n\", report)\n"
   ]
  },
  {
   "cell_type": "code",
   "execution_count": 87,
   "metadata": {},
   "outputs": [
    {
     "data": {
      "text/html": [
       "<div>\n",
       "<style scoped>\n",
       "    .dataframe tbody tr th:only-of-type {\n",
       "        vertical-align: middle;\n",
       "    }\n",
       "\n",
       "    .dataframe tbody tr th {\n",
       "        vertical-align: top;\n",
       "    }\n",
       "\n",
       "    .dataframe thead th {\n",
       "        text-align: right;\n",
       "    }\n",
       "</style>\n",
       "<table border=\"1\" class=\"dataframe\">\n",
       "  <thead>\n",
       "    <tr style=\"text-align: right;\">\n",
       "      <th></th>\n",
       "      <th>Age</th>\n",
       "      <th>Subscription</th>\n",
       "      <th>Churn</th>\n",
       "    </tr>\n",
       "  </thead>\n",
       "  <tbody>\n",
       "    <tr>\n",
       "      <th>0</th>\n",
       "      <td>34.0</td>\n",
       "      <td>2</td>\n",
       "      <td>1</td>\n",
       "    </tr>\n",
       "    <tr>\n",
       "      <th>1</th>\n",
       "      <td>46.0</td>\n",
       "      <td>0</td>\n",
       "      <td>0</td>\n",
       "    </tr>\n",
       "    <tr>\n",
       "      <th>2</th>\n",
       "      <td>47.0</td>\n",
       "      <td>0</td>\n",
       "      <td>1</td>\n",
       "    </tr>\n",
       "    <tr>\n",
       "      <th>3</th>\n",
       "      <td>65.0</td>\n",
       "      <td>0</td>\n",
       "      <td>0</td>\n",
       "    </tr>\n",
       "    <tr>\n",
       "      <th>4</th>\n",
       "      <td>50.0</td>\n",
       "      <td>2</td>\n",
       "      <td>1</td>\n",
       "    </tr>\n",
       "  </tbody>\n",
       "</table>\n",
       "</div>"
      ],
      "text/plain": [
       "    Age  Subscription  Churn\n",
       "0  34.0             2      1\n",
       "1  46.0             0      0\n",
       "2  47.0             0      1\n",
       "3  65.0             0      0\n",
       "4  50.0             2      1"
      ]
     },
     "execution_count": 87,
     "metadata": {},
     "output_type": "execute_result"
    }
   ],
   "source": [
    "df1.head()"
   ]
  },
  {
   "cell_type": "markdown",
   "metadata": {},
   "source": [
    "Explain how feature scaling impacts Logistic Regression."
   ]
  },
  {
   "cell_type": "code",
   "execution_count": 88,
   "metadata": {},
   "outputs": [
    {
     "name": "stdout",
     "output_type": "stream",
     "text": [
      "        Age  Subscription_1  Subscription_2\n",
      "0 -0.833190       -0.673415        1.288245\n",
      "1 -0.155937       -0.673415       -0.776250\n",
      "2 -0.099500       -0.673415       -0.776250\n",
      "3  0.916379       -0.673415       -0.776250\n",
      "4  0.069813       -0.673415        1.288245\n"
     ]
    }
   ],
   "source": [
    "from sklearn.preprocessing import StandardScaler\n",
    "\n",
    "# Initialize Scaler\n",
    "scaler = StandardScaler()\n",
    "\n",
    "# Fit and transform features\n",
    "X_scaled = scaler.fit_transform(X)  # X contains numerical features\n",
    "\n",
    "# Convert back to DataFrame (Optional)\n",
    "X_scaled_df = pd.DataFrame(X_scaled, columns=X.columns)\n",
    "\n",
    "print(X_scaled_df.head())  # Display scaled values\n"
   ]
  },
  {
   "cell_type": "markdown",
   "metadata": {},
   "source": [
    "### creating a scaler.pkl file"
   ]
  },
  {
   "cell_type": "code",
   "execution_count": 89,
   "metadata": {},
   "outputs": [],
   "source": [
    "# import joblib\n",
    "# from sklearn.preprocessing import StandardScaler\n",
    "# import pandas as pd\n",
    "\n",
    "# # Initialize Scaler\n",
    "# scaler = StandardScaler()--------------------\n",
    "\n",
    "# # Fit on your data\n",
    "# scaler.fit(X)  # X should be your numerical dataset\n",
    "\n",
    "# # Save the scaler to a file\n",
    "# joblib.dump(scaler, 'scaler.pkl')\n",
    "\n",
    "# print(\"Scaler saved successfully as scaler.pkl\")\n"
   ]
  },
  {
   "cell_type": "code",
   "execution_count": 90,
   "metadata": {},
   "outputs": [
    {
     "name": "stdout",
     "output_type": "stream",
     "text": [
      "Model Accuracy: 0.54\n",
      "Classification Report:\n",
      "               precision    recall  f1-score   support\n",
      "\n",
      "           0       0.54      0.79      0.64       103\n",
      "           1       0.55      0.28      0.37        97\n",
      "\n",
      "    accuracy                           0.54       200\n",
      "   macro avg       0.54      0.53      0.50       200\n",
      "weighted avg       0.54      0.54      0.51       200\n",
      "\n"
     ]
    }
   ],
   "source": [
    "# Split the dataset into training (80%) and testing (20%) for Scalling data\n",
    "\n",
    "\n",
    "X_train, X_test, y_train, y_test = train_test_split(X_scaled, y, test_size=0.2, random_state=42, stratify=y)\n",
    "\n",
    "\n",
    "model = LogisticRegression()\n",
    "model.fit(X_train, y_train)\n",
    "\n",
    "#Make Predictions\n",
    "y_pred = model.predict(X_test)\n",
    "\n",
    "# Evaluate Model Performance\n",
    "accuracy = accuracy_score(y_test, y_pred)\n",
    "report = classification_report(y_test, y_pred)\n",
    "\n",
    "print(f\"Model Accuracy: {accuracy:.2f}\")\n",
    "print(\"Classification Report:\\n\", report)\n",
    "\n"
   ]
  },
  {
   "cell_type": "markdown",
   "metadata": {},
   "source": [
    "Ensures Equal Weightage to Features\n",
    "\n",
    "Logistic Regression computes the weighted sum of input features.\n",
    "If one feature has values in thousands (e.g., income) and another in single digits (e.g., age), the model gives more weight to larger values, causing bias.\n",
    "Faster Convergence of Gradient Descent\n",
    "\n",
    "Logistic Regression uses optimization techniques like Gradient Descent.\n",
    "When features are on different scales, the cost function may form an elongated ellipse, making convergence slower.\n",
    "Scaling helps smooth the optimization process, leading to faster and stable training.\n",
    "Prevents Numerical Instability\n",
    "\n",
    "Large-scale differences can lead to numerical instability in matrix operations.\n",
    "Scaling ensures better numerical computation and avoids overflow errors."
   ]
  },
  {
   "cell_type": "code",
   "execution_count": 91,
   "metadata": {},
   "outputs": [
    {
     "data": {
      "text/plain": [
       "(800, 3)"
      ]
     },
     "execution_count": 91,
     "metadata": {},
     "output_type": "execute_result"
    }
   ],
   "source": [
    "X_train.shape"
   ]
  },
  {
   "cell_type": "markdown",
   "metadata": {},
   "source": [
    "### creating the pickle file"
   ]
  },
  {
   "cell_type": "code",
   "execution_count": 92,
   "metadata": {},
   "outputs": [],
   "source": [
    "import pickle\n",
    "with open(\"logistic_regression_model.pkl\", \"wb\") as file:\n",
    "    pickle.dump(model, file)"
   ]
  },
  {
   "cell_type": "code",
   "execution_count": 93,
   "metadata": {},
   "outputs": [
    {
     "name": "stdout",
     "output_type": "stream",
     "text": [
      "Fitting 5 folds for each of 81 candidates, totalling 405 fits\n",
      "Best Parameters: {'max_depth': None, 'min_samples_leaf': 4, 'min_samples_split': 2, 'n_estimators': 40}\n",
      "Optimized Model Accuracy: 0.47\n",
      "Classification Report:\n",
      "               precision    recall  f1-score   support\n",
      "\n",
      "           0       0.49      0.47      0.48       103\n",
      "           1       0.46      0.48      0.47        97\n",
      "\n",
      "    accuracy                           0.47       200\n",
      "   macro avg       0.48      0.48      0.47       200\n",
      "weighted avg       0.48      0.47      0.48       200\n",
      "\n"
     ]
    }
   ],
   "source": [
    "from sklearn.ensemble import RandomForestClassifier\n",
    "from sklearn.model_selection import GridSearchCV\n",
    "from sklearn.metrics import accuracy_score, classification_report\n",
    "\n",
    "# Step 1: Define Model\n",
    "rf = RandomForestClassifier(random_state=42)\n",
    "\n",
    "# Step 2: Define Hyperparameter Grid\n",
    "param_grid = {\n",
    "    'n_estimators': [10, 40, 50],  # Number of trees\n",
    "    'max_depth': [None, 10, 20],     # Maximum depth of each tree\n",
    "    'min_samples_split': [2, 5, 10], # Min samples required to split a node\n",
    "    'min_samples_leaf': [1, 2, 4]    # Min samples at leaf node\n",
    "}\n",
    "\n",
    "# Step 3: Apply GridSearchCV\n",
    "grid_search = GridSearchCV(estimator=rf, param_grid=param_grid,\n",
    "                           cv=5, scoring='accuracy', n_jobs=-1, verbose=1)\n",
    "\n",
    "# Step 4: Train on Training Data\n",
    "grid_search.fit(X_train, y_train)\n",
    "\n",
    "# Step 5: Get Best Parameters & Best Model\n",
    "best_params = grid_search.best_params_\n",
    "best_model = grid_search.best_estimator_\n",
    "\n",
    "print(\"Best Parameters:\", best_params)\n",
    "\n",
    "# Step 6: Evaluate Performance\n",
    "y_pred = best_model.predict(X_test)\n",
    "accuracy = accuracy_score(y_test, y_pred)\n",
    "\n",
    "print(f\"Optimized Model Accuracy: {accuracy:.2f}\")\n",
    "print(\"Classification Report:\\n\", classification_report(y_test, y_pred))\n"
   ]
  },
  {
   "cell_type": "code",
   "execution_count": null,
   "metadata": {},
   "outputs": [],
   "source": []
  }
 ],
 "metadata": {
  "kernelspec": {
   "display_name": "Python 3",
   "language": "python",
   "name": "python3"
  },
  "language_info": {
   "codemirror_mode": {
    "name": "ipython",
    "version": 3
   },
   "file_extension": ".py",
   "mimetype": "text/x-python",
   "name": "python",
   "nbconvert_exporter": "python",
   "pygments_lexer": "ipython3",
   "version": "3.12.6"
  }
 },
 "nbformat": 4,
 "nbformat_minor": 2
}
